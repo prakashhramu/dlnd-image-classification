{
 "cells": [
  {
   "cell_type": "markdown",
   "metadata": {
    "collapsed": true
   },
   "source": [
    "# Image Classification\n",
    "In this project, you'll classify images from the [CIFAR-10 dataset](https://www.cs.toronto.edu/~kriz/cifar.html).  The dataset consists of airplanes, dogs, cats, and other objects. You'll preprocess the images, then train a convolutional neural network on all the samples. The images need to be normalized and the labels need to be one-hot encoded.  You'll get to apply what you learned and build a convolutional, max pooling, dropout, and fully connected layers.  At the end, you'll get to see your neural network's predictions on the sample images.\n",
    "## Get the Data\n",
    "Run the following cell to download the [CIFAR-10 dataset for python](https://www.cs.toronto.edu/~kriz/cifar-10-python.tar.gz)."
   ]
  },
  {
   "cell_type": "code",
   "execution_count": 1,
   "metadata": {},
   "outputs": [
    {
     "name": "stdout",
     "output_type": "stream",
     "text": [
      "All files found!\n"
     ]
    }
   ],
   "source": [
    "\"\"\"\n",
    "DON'T MODIFY ANYTHING IN THIS CELL THAT IS BELOW THIS LINE\n",
    "\"\"\"\n",
    "from urllib.request import urlretrieve\n",
    "from os.path import isfile, isdir\n",
    "from tqdm import tqdm\n",
    "import problem_unittests as tests\n",
    "import tarfile\n",
    "\n",
    "cifar10_dataset_folder_path = 'cifar-10-batches-py'\n",
    "\n",
    "# Use Floyd's cifar-10 dataset if present\n",
    "floyd_cifar10_location = '/cifar/cifar-10-python.tar.gz'\n",
    "if isfile(floyd_cifar10_location):\n",
    "    tar_gz_path = floyd_cifar10_location\n",
    "else:\n",
    "    tar_gz_path = 'cifar-10-python.tar.gz'\n",
    "\n",
    "class DLProgress(tqdm):\n",
    "    last_block = 0\n",
    "\n",
    "    def hook(self, block_num=1, block_size=1, total_size=None):\n",
    "        self.total = total_size\n",
    "        self.update((block_num - self.last_block) * block_size)\n",
    "        self.last_block = block_num\n",
    "\n",
    "if not isfile(tar_gz_path):\n",
    "    with DLProgress(unit='B', unit_scale=True, miniters=1, desc='CIFAR-10 Dataset') as pbar:\n",
    "        urlretrieve(\n",
    "            'https://www.cs.toronto.edu/~kriz/cifar-10-python.tar.gz',\n",
    "            tar_gz_path,\n",
    "            pbar.hook)\n",
    "\n",
    "if not isdir(cifar10_dataset_folder_path):\n",
    "    with tarfile.open(tar_gz_path) as tar:\n",
    "        tar.extractall()\n",
    "        tar.close()\n",
    "\n",
    "\n",
    "tests.test_folder_path(cifar10_dataset_folder_path)"
   ]
  },
  {
   "cell_type": "markdown",
   "metadata": {},
   "source": [
    "## Explore the Data\n",
    "The dataset is broken into batches to prevent your machine from running out of memory.  The CIFAR-10 dataset consists of 5 batches, named `data_batch_1`, `data_batch_2`, etc.. Each batch contains the labels and images that are one of the following:\n",
    "* airplane\n",
    "* automobile\n",
    "* bird\n",
    "* cat\n",
    "* deer\n",
    "* dog\n",
    "* frog\n",
    "* horse\n",
    "* ship\n",
    "* truck\n",
    "\n",
    "Understanding a dataset is part of making predictions on the data.  Play around with the code cell below by changing the `batch_id` and `sample_id`. The `batch_id` is the id for a batch (1-5). The `sample_id` is the id for a image and label pair in the batch.\n",
    "\n",
    "Ask yourself \"What are all possible labels?\", \"What is the range of values for the image data?\", \"Are the labels in order or random?\".  Answers to questions like these will help you preprocess the data and end up with better predictions."
   ]
  },
  {
   "cell_type": "code",
   "execution_count": 2,
   "metadata": {},
   "outputs": [
    {
     "name": "stdout",
     "output_type": "stream",
     "text": [
      "\n",
      "Stats of batch 5:\n",
      "Samples: 10000\n",
      "Label Counts: {0: 1014, 1: 1014, 2: 952, 3: 1016, 4: 997, 5: 1025, 6: 980, 7: 977, 8: 1003, 9: 1022}\n",
      "First 20 Labels: [1, 8, 5, 1, 5, 7, 4, 3, 8, 2, 7, 2, 0, 1, 5, 9, 6, 2, 0, 8]\n",
      "\n",
      "Example of Image 0:\n",
      "Image - Min Value: 2 Max Value: 255\n",
      "Image - Shape: (32, 32, 3)\n",
      "Label - Label Id: 1 Name: automobile\n"
     ]
    },
    {
     "data": {
      "image/png": "[encoded data removed]",
      "text/plain": [
       "<matplotlib.figure.Figure at 0x7fc48476db00>"
      ]
     },
     "metadata": {
      "image/png": {
       "height": 250,
       "width": 253
      }
     },
     "output_type": "display_data"
    }
   ],
   "source": [
    "%matplotlib inline\n",
    "%config InlineBackend.figure_format = 'retina'\n",
    "\n",
    "import helper\n",
    "import numpy as np\n",
    "\n",
    "# Explore the dataset\n",
    "batch_id = 5\n",
    "sample_id = 0\n",
    "helper.display_stats(cifar10_dataset_folder_path, batch_id, sample_id)"
   ]
  },
  {
   "cell_type": "markdown",
   "metadata": {},
   "source": [
    "## Implement Preprocess Functions\n",
    "### Normalize\n",
    "In the cell below, implement the `normalize` function to take in image data, `x`, and return it as a normalized Numpy array. The values should be in the range of 0 to 1, inclusive.  The return object should be the same shape as `x`."
   ]
  },
  {
   "cell_type": "code",
   "execution_count": 3,
   "metadata": {},
   "outputs": [
    {
     "name": "stdout",
     "output_type": "stream",
     "text": [
      "Tests Passed\n"
     ]
    }
   ],
   "source": [
    "import numpy as np\n",
    "\n",
    "def normalize_ch(x):\n",
    "    \n",
    "    x = x - np.min(x)\n",
    "    x = x / np.max(x)\n",
    "    return x\n",
    "\n",
    "def normalize(x):\n",
    "    \"\"\"\n",
    "    Normalize a list of sample image data in the range of 0 to 1\n",
    "    : x: List of image data.  The image shape is (32, 32, 3)\n",
    "    : return: Numpy array of normalize data\n",
    "    \"\"\"\n",
    "    # TODO: Implement Function\n",
    "    \n",
    "    x_out = np.ndarray(np.shape(x))\n",
    "    \n",
    "    for idx in range(np.shape(x)[0]):\n",
    "        im = np.array(x[idx], dtype='float32', copy=True)\n",
    "        im[:, :, 0] = normalize_ch(im[:, :, 0])\n",
    "        im[:, :, 1] = normalize_ch(im[:, :, 1])\n",
    "        im[:, :, 2] = normalize_ch(im[:, :, 2])\n",
    "        x_out[idx] = np.array(im, copy=True)\n",
    "\n",
    "    return x_out\n",
    "\n",
    "\"\"\"\n",
    "DON'T MODIFY ANYTHING IN THIS CELL THAT IS BELOW THIS LINE\n",
    "\"\"\"\n",
    "tests.test_normalize(normalize)"
   ]
  },
  {
   "cell_type": "markdown",
   "metadata": {},
   "source": [
    "### One-hot encode\n",
    "Just like the previous code cell, you'll be implementing a function for preprocessing.  This time, you'll implement the `one_hot_encode` function. The input, `x`, are a list of labels.  Implement the function to return the list of labels as One-Hot encoded Numpy array.  The possible values for labels are 0 to 9. The one-hot encoding function should return the same encoding for each value between each call to `one_hot_encode`.  Make sure to save the map of encodings outside the function.\n",
    "\n",
    "Hint: Don't reinvent the wheel."
   ]
  },
  {
   "cell_type": "code",
   "execution_count": 4,
   "metadata": {},
   "outputs": [
    {
     "name": "stdout",
     "output_type": "stream",
     "text": [
      "Tests Passed\n"
     ]
    }
   ],
   "source": [
    "import numpy as np\n",
    "\n",
    "NUM_LABELS = 10\n",
    "\n",
    "def one_hot_encode(x):\n",
    "    \"\"\"\n",
    "    One hot encode a list of sample labels. Return a one-hot encoded vector for each label.\n",
    "    : x: List of sample Labels\n",
    "    : return: Numpy array of one-hot encoded labels\n",
    "    \"\"\"\n",
    "    # TODO: Implement Function\n",
    "    \n",
    "    one_hot_encoding = np.zeros((len(x), NUM_LABELS))\n",
    "    \n",
    "    for idx in range(len(x)):\n",
    "        one_hot_encoding[idx, x[idx]] = 1\n",
    "\n",
    "    return one_hot_encoding\n",
    "\n",
    "\"\"\"\n",
    "DON'T MODIFY ANYTHING IN THIS CELL THAT IS BELOW THIS LINE\n",
    "\"\"\"\n",
    "tests.test_one_hot_encode(one_hot_encode)"
   ]
  },
  {
   "cell_type": "markdown",
   "metadata": {},
   "source": [
    "### Randomize Data\n",
    "As you saw from exploring the data above, the order of the samples are randomized.  It doesn't hurt to randomize it again, but you don't need to for this dataset."
   ]
  },
  {
   "cell_type": "markdown",
   "metadata": {},
   "source": [
    "## Preprocess all the data and save it\n",
    "Running the code cell below will preprocess all the CIFAR-10 data and save it to file. The code below also uses 10% of the training data for validation."
   ]
  },
  {
   "cell_type": "code",
   "execution_count": 5,
   "metadata": {
    "collapsed": true
   },
   "outputs": [],
   "source": [
    "\"\"\"\n",
    "DON'T MODIFY ANYTHING IN THIS CELL\n",
    "\"\"\"\n",
    "# Preprocess Training, Validation, and Testing Data\n",
    "helper.preprocess_and_save_data(cifar10_dataset_folder_path, normalize, one_hot_encode)"
   ]
  },
  {
   "cell_type": "markdown",
   "metadata": {},
   "source": [
    "# Check Point\n",
    "This is your first checkpoint.  If you ever decide to come back to this notebook or have to restart the notebook, you can start from here.  The preprocessed data has been saved to disk."
   ]
  },
  {
   "cell_type": "code",
   "execution_count": 6,
   "metadata": {
    "collapsed": true
   },
   "outputs": [],
   "source": [
    "\"\"\"\n",
    "DON'T MODIFY ANYTHING IN THIS CELL\n",
    "\"\"\"\n",
    "import pickle\n",
    "import problem_unittests as tests\n",
    "import helper\n",
    "\n",
    "# Load the Preprocessed Validation data\n",
    "valid_features, valid_labels = pickle.load(open('preprocess_validation.p', mode='rb'))"
   ]
  },
  {
   "cell_type": "markdown",
   "metadata": {},
   "source": [
    "## Build the network\n",
    "For the neural network, you'll build each layer into a function.  Most of the code you've seen has been outside of functions. To test your code more thoroughly, we require that you put each layer in a function.  This allows us to give you better feedback and test for simple mistakes using our unittests before you submit your project.\n",
    "\n",
    ">**Note:** If you're finding it hard to dedicate enough time for this course each week, we've provided a small shortcut to this part of the project. In the next couple of problems, you'll have the option to use classes from the [TensorFlow Layers](https://www.tensorflow.org/api_docs/python/tf/layers) or [TensorFlow Layers (contrib)](https://www.tensorflow.org/api_guides/python/contrib.layers) packages to build each layer, except the layers you build in the \"Convolutional and Max Pooling Layer\" section.  TF Layers is similar to Keras's and TFLearn's abstraction to layers, so it's easy to pickup.\n",
    "\n",
    ">However, if you would like to get the most out of this course, try to solve all the problems _without_ using anything from the TF Layers packages. You **can** still use classes from other packages that happen to have the same name as ones you find in TF Layers! For example, instead of using the TF Layers version of the `conv2d` class, [tf.layers.conv2d](https://www.tensorflow.org/api_docs/python/tf/layers/conv2d), you would want to use the TF Neural Network version of `conv2d`, [tf.nn.conv2d](https://www.tensorflow.org/api_docs/python/tf/nn/conv2d). \n",
    "\n",
    "Let's begin!\n",
    "\n",
    "### Input\n",
    "The neural network needs to read the image data, one-hot encoded labels, and dropout keep probability. Implement the following functions\n",
    "* Implement `neural_net_image_input`\n",
    " * Return a [TF Placeholder](https://www.tensorflow.org/api_docs/python/tf/placeholder)\n",
    " * Set the shape using `image_shape` with batch size set to `None`.\n",
    " * Name the TensorFlow placeholder \"x\" using the TensorFlow `name` parameter in the [TF Placeholder](https://www.tensorflow.org/api_docs/python/tf/placeholder).\n",
    "* Implement `neural_net_label_input`\n",
    " * Return a [TF Placeholder](https://www.tensorflow.org/api_docs/python/tf/placeholder)\n",
    " * Set the shape using `n_classes` with batch size set to `None`.\n",
    " * Name the TensorFlow placeholder \"y\" using the TensorFlow `name` parameter in the [TF Placeholder](https://www.tensorflow.org/api_docs/python/tf/placeholder).\n",
    "* Implement `neural_net_keep_prob_input`\n",
    " * Return a [TF Placeholder](https://www.tensorflow.org/api_docs/python/tf/placeholder) for dropout keep probability.\n",
    " * Name the TensorFlow placeholder \"keep_prob\" using the TensorFlow `name` parameter in the [TF Placeholder](https://www.tensorflow.org/api_docs/python/tf/placeholder).\n",
    "\n",
    "These names will be used at the end of the project to load your saved model.\n",
    "\n",
    "Note: `None` for shapes in TensorFlow allow for a dynamic size."
   ]
  },
  {
   "cell_type": "code",
   "execution_count": 7,
   "metadata": {},
   "outputs": [
    {
     "name": "stdout",
     "output_type": "stream",
     "text": [
      "Image Input Tests Passed.\n",
      "Label Input Tests Passed.\n",
      "Keep Prob Tests Passed.\n"
     ]
    }
   ],
   "source": [
    "import tensorflow as tf\n",
    "\n",
    "def neural_net_image_input(image_shape):\n",
    "    \"\"\"\n",
    "    Return a Tensor for a batch of image input\n",
    "    : image_shape: Shape of the images\n",
    "    : return: Tensor for image input.\n",
    "    \"\"\"\n",
    "    # TODO: Implement Function\n",
    "    return tf.placeholder(dtype=tf.float32, shape=(None, image_shape[0], image_shape[1], image_shape[2]), name='x')\n",
    "\n",
    "\n",
    "def neural_net_label_input(n_classes):\n",
    "    \"\"\"\n",
    "    Return a Tensor for a batch of label input\n",
    "    : n_classes: Number of classes\n",
    "    : return: Tensor for label input.\n",
    "    \"\"\"\n",
    "    # TODO: Implement Function\n",
    "    return tf.placeholder(dtype=tf.float32, shape=(None, n_classes), name='y')\n",
    "\n",
    "\n",
    "def neural_net_keep_prob_input():\n",
    "    \"\"\"\n",
    "    Return a Tensor for keep probability\n",
    "    : return: Tensor for keep probability.\n",
    "    \"\"\"\n",
    "    # TODO: Implement Function\n",
    "    return tf.placeholder(dtype=tf.float32, name='keep_prob')\n",
    "\n",
    "\n",
    "\"\"\"\n",
    "DON'T MODIFY ANYTHING IN THIS CELL THAT IS BELOW THIS LINE\n",
    "\"\"\"\n",
    "tf.reset_default_graph()\n",
    "tests.test_nn_image_inputs(neural_net_image_input)\n",
    "tests.test_nn_label_inputs(neural_net_label_input)\n",
    "tests.test_nn_keep_prob_inputs(neural_net_keep_prob_input)"
   ]
  },
  {
   "cell_type": "markdown",
   "metadata": {},
   "source": [
    "### Convolution and Max Pooling Layer\n",
    "Convolution layers have a lot of success with images. For this code cell, you should implement the function `conv2d_maxpool` to apply convolution then max pooling:\n",
    "* Create the weight and bias using `conv_ksize`, `conv_num_outputs` and the shape of `x_tensor`.\n",
    "* Apply a convolution to `x_tensor` using weight and `conv_strides`.\n",
    " * We recommend you use same padding, but you're welcome to use any padding.\n",
    "* Add bias\n",
    "* Add a nonlinear activation to the convolution.\n",
    "* Apply Max Pooling using `pool_ksize` and `pool_strides`.\n",
    " * We recommend you use same padding, but you're welcome to use any padding.\n",
    "\n",
    "**Note:** You **can't** use [TensorFlow Layers](https://www.tensorflow.org/api_docs/python/tf/layers) or [TensorFlow Layers (contrib)](https://www.tensorflow.org/api_guides/python/contrib.layers) for **this** layer, but you can still use TensorFlow's [Neural Network](https://www.tensorflow.org/api_docs/python/tf/nn) package. You may still use the shortcut option for all the **other** layers."
   ]
  },
  {
   "cell_type": "code",
   "execution_count": 94,
   "metadata": {},
   "outputs": [
    {
     "name": "stdout",
     "output_type": "stream",
     "text": [
      "Tests Passed\n"
     ]
    }
   ],
   "source": [
    "def conv2d_maxpool(x_tensor, conv_num_outputs, conv_ksize, conv_strides, pool_ksize, pool_strides):\n",
    "    \"\"\"\n",
    "    Apply convolution then max pooling to x_tensor\n",
    "    :param x_tensor: TensorFlow Tensor\n",
    "    :param conv_num_outputs: Number of outputs for the convolutional layer\n",
    "    :param conv_ksize: kernal size 2-D Tuple for the convolutional layer\n",
    "    :param conv_strides: Stride 2-D Tuple for convolution\n",
    "    :param pool_ksize: kernal size 2-D Tuple for pool\n",
    "    :param pool_strides: Stride 2-D Tuple for pool\n",
    "    : return: A tensor that represents convolution and max pooling of x_tensor\n",
    "    \"\"\"\n",
    "    # TODO: Implement Function\n",
    "\n",
    "    num_ch = x_tensor.get_shape().as_list()\n",
    "    num_ch = num_ch[3]\n",
    "    \n",
    "    weights = tf.Variable(tf.truncated_normal([conv_ksize[0], conv_ksize[1], num_ch, conv_num_outputs], stddev=0.1))\n",
    "    bias = tf.Variable(tf.zeros(conv_num_outputs))\n",
    "    \n",
    "    conv_layer = tf.nn.conv2d(x_tensor, weights, strides=[1, conv_strides[0], conv_strides[1], 1], padding='SAME')\n",
    "    conv_layer = tf.nn.bias_add(conv_layer, bias)\n",
    "    conv_layer = tf.nn.relu(conv_layer)\n",
    "    \n",
    "    conv_layer = tf.nn.max_pool(conv_layer, ksize=[1, pool_ksize[0], pool_ksize[1], 1], strides=[1, pool_strides[0], pool_strides[1], 1], padding='SAME')\n",
    "    \n",
    "    return conv_layer\n",
    "\n",
    "\n",
    "\"\"\"\n",
    "DON'T MODIFY ANYTHING IN THIS CELL THAT IS BELOW THIS LINE\n",
    "\"\"\"\n",
    "tests.test_con_pool(conv2d_maxpool)"
   ]
  },
  {
   "cell_type": "code",
   "execution_count": null,
   "metadata": {
    "collapsed": true
   },
   "outputs": [],
   "source": []
  },
  {
   "cell_type": "markdown",
   "metadata": {},
   "source": [
    "### Flatten Layer\n",
    "Implement the `flatten` function to change the dimension of `x_tensor` from a 4-D tensor to a 2-D tensor.  The output should be the shape (*Batch Size*, *Flattened Image Size*). Shortcut option: you can use classes from the [TensorFlow Layers](https://www.tensorflow.org/api_docs/python/tf/layers) or [TensorFlow Layers (contrib)](https://www.tensorflow.org/api_guides/python/contrib.layers) packages for this layer. For more of a challenge, only use other TensorFlow packages."
   ]
  },
  {
   "cell_type": "code",
   "execution_count": 95,
   "metadata": {},
   "outputs": [
    {
     "name": "stdout",
     "output_type": "stream",
     "text": [
      "Tests Passed\n"
     ]
    }
   ],
   "source": [
    "def flatten(x_tensor):\n",
    "    \"\"\"\n",
    "    Flatten x_tensor to (Batch Size, Flattened Image Size)\n",
    "    : x_tensor: A tensor of size (Batch Size, ...), where ... are the image dimensions.\n",
    "    : return: A tensor of size (Batch Size, Flattened Image Size).\n",
    "    \"\"\"\n",
    "    dim = x_tensor.get_shape().as_list()\n",
    "    dim = np.prod(dim[1:])\n",
    "    return tf.reshape(x_tensor, [-1, dim])\n",
    "\n",
    "\n",
    "\"\"\"\n",
    "DON'T MODIFY ANYTHING IN THIS CELL THAT IS BELOW THIS LINE\n",
    "\"\"\"\n",
    "tests.test_flatten(flatten)"
   ]
  },
  {
   "cell_type": "markdown",
   "metadata": {},
   "source": [
    "### Fully-Connected Layer\n",
    "Implement the `fully_conn` function to apply a fully connected layer to `x_tensor` with the shape (*Batch Size*, *num_outputs*). Shortcut option: you can use classes from the [TensorFlow Layers](https://www.tensorflow.org/api_docs/python/tf/layers) or [TensorFlow Layers (contrib)](https://www.tensorflow.org/api_guides/python/contrib.layers) packages for this layer. For more of a challenge, only use other TensorFlow packages."
   ]
  },
  {
   "cell_type": "code",
   "execution_count": 96,
   "metadata": {},
   "outputs": [
    {
     "name": "stdout",
     "output_type": "stream",
     "text": [
      "Tests Passed\n"
     ]
    }
   ],
   "source": [
    "def fully_conn(x_tensor, num_outputs):\n",
    "    \"\"\"\n",
    "    Apply a fully connected layer to x_tensor using weight and bias\n",
    "    : x_tensor: A 2-D tensor where the first dimension is batch size.\n",
    "    : num_outputs: The number of output that the new tensor should be.\n",
    "    : return: A 2-D tensor where the second dimension is num_outputs.\n",
    "    \"\"\"\n",
    "    # TODO: Implement Function\n",
    "    \n",
    "    x_tensor_shape = x_tensor.get_shape().as_list()\n",
    "\n",
    "    weights = tf.Variable(tf.truncated_normal([x_tensor_shape[1], num_outputs], stddev=0.1))\n",
    "    bias = tf.Variable(tf.zeros(num_outputs))\n",
    "\n",
    "    fc = tf.add(tf.matmul(x_tensor, weights), bias)\n",
    "    fc = tf.nn.relu(fc)\n",
    "\n",
    "    return fc\n",
    "\n",
    "\"\"\"\n",
    "DON'T MODIFY ANYTHING IN THIS CELL THAT IS BELOW THIS LINE\n",
    "\"\"\"\n",
    "tests.test_fully_conn(fully_conn)"
   ]
  },
  {
   "cell_type": "markdown",
   "metadata": {},
   "source": [
    "### Output Layer\n",
    "Implement the `output` function to apply a fully connected layer to `x_tensor` with the shape (*Batch Size*, *num_outputs*). Shortcut option: you can use classes from the [TensorFlow Layers](https://www.tensorflow.org/api_docs/python/tf/layers) or [TensorFlow Layers (contrib)](https://www.tensorflow.org/api_guides/python/contrib.layers) packages for this layer. For more of a challenge, only use other TensorFlow packages.\n",
    "\n",
    "**Note:** Activation, softmax, or cross entropy should **not** be applied to this."
   ]
  },
  {
   "cell_type": "code",
   "execution_count": 97,
   "metadata": {},
   "outputs": [
    {
     "name": "stdout",
     "output_type": "stream",
     "text": [
      "Tests Passed\n"
     ]
    }
   ],
   "source": [
    "def output(x_tensor, num_outputs):\n",
    "    \"\"\"\n",
    "    Apply a output layer to x_tensor using weight and bias\n",
    "    : x_tensor: A 2-D tensor where the first dimension is batch size.\n",
    "    : num_outputs: The number of output that the new tensor should be.\n",
    "    : return: A 2-D tensor where the second dimension is num_outputs.\n",
    "    \"\"\"\n",
    "    # TODO: Implement Function\n",
    "    \n",
    "    x_tensor_shape = x_tensor.get_shape().as_list()\n",
    "    \n",
    "    weights = tf.Variable(tf.truncated_normal([x_tensor_shape[1], num_outputs], stddev=0.1))\n",
    "    bias = tf.Variable(tf.zeros(num_outputs))\n",
    "\n",
    "    out = tf.add(tf.matmul(x_tensor, weights), bias)\n",
    "    \n",
    "    return out\n",
    "\n",
    "\"\"\"\n",
    "DON'T MODIFY ANYTHING IN THIS CELL THAT IS BELOW THIS LINE\n",
    "\"\"\"\n",
    "tests.test_output(output)"
   ]
  },
  {
   "cell_type": "markdown",
   "metadata": {},
   "source": [
    "### Create Convolutional Model\n",
    "Implement the function `conv_net` to create a convolutional neural network model. The function takes in a batch of images, `x`, and outputs logits.  Use the layers you created above to create this model:\n",
    "\n",
    "* Apply 1, 2, or 3 Convolution and Max Pool layers\n",
    "* Apply a Flatten Layer\n",
    "* Apply 1, 2, or 3 Fully Connected Layers\n",
    "* Apply an Output Layer\n",
    "* Return the output\n",
    "* Apply [TensorFlow's Dropout](https://www.tensorflow.org/api_docs/python/tf/nn/dropout) to one or more layers in the model using `keep_prob`. "
   ]
  },
  {
   "cell_type": "code",
   "execution_count": 98,
   "metadata": {},
   "outputs": [
    {
     "name": "stdout",
     "output_type": "stream",
     "text": [
      "Neural Network Built!\n"
     ]
    }
   ],
   "source": [
    "def conv_net(x, keep_prob):\n",
    "    \"\"\"\n",
    "    Create a convolutional neural network model\n",
    "    : x: Placeholder tensor that holds image data.\n",
    "    : keep_prob: Placeholder tensor that hold dropout keep probability.\n",
    "    : return: Tensor that represents logits\n",
    "    \"\"\"\n",
    "    # TODO: Apply 1, 2, or 3 Convolution and Max Pool layers\n",
    "    #    Play around with different number of outputs, kernel size and stride\n",
    "    # Function Definition from Above:\n",
    "    conv = conv2d_maxpool(x, 32, (3, 3), (1, 1), (2, 2), (2, 2))\n",
    "    conv = tf.nn.dropout(conv, keep_prob)\n",
    "    conv = conv2d_maxpool(conv, 64, (3, 3), (1, 1), (2, 2), (2, 2))\n",
    "    conv = tf.nn.dropout(conv, keep_prob)\n",
    "    conv = conv2d_maxpool(conv, 128, (3, 3), (1, 1), (2, 2), (2, 2))\n",
    "    conv = tf.nn.dropout(conv, keep_prob)\n",
    "\n",
    "    # conv = conv2d_maxpool(x, 128, (4, 4), (2, 2), (2, 2), (2, 2))\n",
    "    # conv = tf.nn.dropout(conv, keep_prob)\n",
    "\n",
    "    # TODO: Apply a Flatten Layer\n",
    "    # Function Definition from Above:\n",
    "    fl = flatten(conv)\n",
    "\n",
    "    # TODO: Apply 1, 2, or 3 Fully Connected Layers\n",
    "    #    Play around with different number of outputs\n",
    "    # Function Definition from Above:\n",
    "    fc = fully_conn(fl, 128)\n",
    "    fc = tf.nn.dropout(fc, keep_prob)\n",
    "    # fc = fully_conn(fl, 1024)\n",
    "    # fc = tf.nn.dropout(fc, keep_prob)\n",
    "    # fc = fully_conn(fc, 512)\n",
    "    # fc = tf.nn.dropout(fc, keep_prob)\n",
    "    # fc = fully_conn(fc, 256)\n",
    "    # fc = tf.nn.dropout(fc, keep_prob)\n",
    "\n",
    "    # TODO: Apply an Output Layer\n",
    "    #    Set this to the number of classes\n",
    "    # Function Definition from Above:\n",
    "    out = output(fc, NUM_LABELS)\n",
    "\n",
    "    # TODO: return output\n",
    "    return out\n",
    "\n",
    "\"\"\"\n",
    "DON'T MODIFY ANYTHING IN THIS CELL THAT IS BELOW THIS LINE\n",
    "\"\"\"\n",
    "\n",
    "##############################\n",
    "## Build the Neural Network ##\n",
    "##############################\n",
    "\n",
    "# Remove previous weights, bias, inputs, etc..\n",
    "tf.reset_default_graph()\n",
    "\n",
    "# Inputs\n",
    "x = neural_net_image_input((32, 32, 3))\n",
    "y = neural_net_label_input(10)\n",
    "keep_prob = neural_net_keep_prob_input()\n",
    "\n",
    "# Model\n",
    "logits = conv_net(x, keep_prob)\n",
    "\n",
    "# Name logits Tensor, so that is can be loaded from disk after training\n",
    "logits = tf.identity(logits, name='logits')\n",
    "\n",
    "# Loss and Optimizer\n",
    "cost = tf.reduce_mean(tf.nn.softmax_cross_entropy_with_logits(logits=logits, labels=y))\n",
    "optimizer = tf.train.AdamOptimizer().minimize(cost)\n",
    "\n",
    "# Accuracy\n",
    "correct_pred = tf.equal(tf.argmax(logits, 1), tf.argmax(y, 1))\n",
    "accuracy = tf.reduce_mean(tf.cast(correct_pred, tf.float32), name='accuracy')\n",
    "\n",
    "tests.test_conv_net(conv_net)"
   ]
  },
  {
   "cell_type": "markdown",
   "metadata": {},
   "source": [
    "## Train the Neural Network\n",
    "### Single Optimization\n",
    "Implement the function `train_neural_network` to do a single optimization.  The optimization should use `optimizer` to optimize in `session` with a `feed_dict` of the following:\n",
    "* `x` for image input\n",
    "* `y` for labels\n",
    "* `keep_prob` for keep probability for dropout\n",
    "\n",
    "This function will be called for each batch, so `tf.global_variables_initializer()` has already been called.\n",
    "\n",
    "Note: Nothing needs to be returned. This function is only optimizing the neural network."
   ]
  },
  {
   "cell_type": "code",
   "execution_count": 14,
   "metadata": {},
   "outputs": [
    {
     "name": "stdout",
     "output_type": "stream",
     "text": [
      "Tests Passed\n"
     ]
    }
   ],
   "source": [
    "def train_neural_network(session, optimizer, keep_probability, feature_batch, label_batch):\n",
    "    \"\"\"\n",
    "    Optimize the session on a batch of images and labels\n",
    "    : session: Current TensorFlow session\n",
    "    : optimizer: TensorFlow optimizer function\n",
    "    : keep_probability: keep probability\n",
    "    : feature_batch: Batch of Numpy image data\n",
    "    : label_batch: Batch of Numpy label data\n",
    "    \"\"\"\n",
    "    # TODO: Implement Function\n",
    "    \n",
    "    session.run(optimizer, feed_dict={x: feature_batch, y: label_batch, keep_prob: keep_probability})\n",
    "\n",
    "\"\"\"\n",
    "DON'T MODIFY ANYTHING IN THIS CELL THAT IS BELOW THIS LINE\n",
    "\"\"\"\n",
    "tests.test_train_nn(train_neural_network)"
   ]
  },
  {
   "cell_type": "markdown",
   "metadata": {},
   "source": [
    "### Show Stats\n",
    "Implement the function `print_stats` to print loss and validation accuracy.  Use the global variables `valid_features` and `valid_labels` to calculate validation accuracy.  Use a keep probability of `1.0` to calculate the loss and validation accuracy."
   ]
  },
  {
   "cell_type": "code",
   "execution_count": 15,
   "metadata": {
    "collapsed": true
   },
   "outputs": [],
   "source": [
    "def print_stats(session, feature_batch, label_batch, cost, accuracy):\n",
    "    \"\"\"\n",
    "    Print information about loss and validation accuracy\n",
    "    : session: Current TensorFlow session\n",
    "    : feature_batch: Batch of Numpy image data\n",
    "    : label_batch: Batch of Numpy label data\n",
    "    : cost: TensorFlow cost function\n",
    "    : accuracy: TensorFlow accuracy function\n",
    "    \"\"\"\n",
    "    # TODO: Implement Function\n",
    "    \n",
    "    loss = session.run(cost, feed_dict={x: feature_batch, y: label_batch, keep_prob: 1.})\n",
    "    val_acc = session.run(accuracy, feed_dict={x: valid_features, y: valid_labels, keep_prob: 1.})\n",
    "\n",
    "    print('loss = %f, val_acc = %f' % (loss, val_acc))"
   ]
  },
  {
   "cell_type": "code",
   "execution_count": null,
   "metadata": {
    "collapsed": true
   },
   "outputs": [],
   "source": []
  },
  {
   "cell_type": "markdown",
   "metadata": {},
   "source": [
    "### Hyperparameters\n",
    "Tune the following parameters:\n",
    "* Set `epochs` to the number of iterations until the network stops learning or start overfitting\n",
    "* Set `batch_size` to the highest number that your machine has memory for.  Most people set them to common sizes of memory:\n",
    " * 64\n",
    " * 128\n",
    " * 256\n",
    " * ...\n",
    "* Set `keep_probability` to the probability of keeping a node using dropout"
   ]
  },
  {
   "cell_type": "code",
   "execution_count": 101,
   "metadata": {
    "collapsed": true
   },
   "outputs": [],
   "source": [
    "# TODO: Tune Parameters\n",
    "epochs = 50\n",
    "batch_size = 256\n",
    "keep_probability = 0.8\n",
    "\n",
    "# epochs = 100\n",
    "# batch_size = 256\n",
    "# keep_probability = 0.8\n"
   ]
  },
  {
   "cell_type": "markdown",
   "metadata": {},
   "source": [
    "### Train on a Single CIFAR-10 Batch\n",
    "Instead of training the neural network on all the CIFAR-10 batches of data, let's use a single batch. This should save time while you iterate on the model to get a better accuracy.  Once the final validation accuracy is 50% or greater, run the model on all the data in the next section."
   ]
  },
  {
   "cell_type": "code",
   "execution_count": 100,
   "metadata": {},
   "outputs": [
    {
     "name": "stdout",
     "output_type": "stream",
     "text": [
      "Checking the Training on a Single Batch...\n",
      "Epoch  1, CIFAR-10 Batch 1:  loss = 2.259988, val_acc = 0.217400\n",
      "Epoch  2, CIFAR-10 Batch 1:  loss = 2.092457, val_acc = 0.293400\n",
      "Epoch  3, CIFAR-10 Batch 1:  loss = 1.883169, val_acc = 0.372600\n",
      "Epoch  4, CIFAR-10 Batch 1:  loss = 1.690118, val_acc = 0.422800\n",
      "Epoch  5, CIFAR-10 Batch 1:  loss = 1.559391, val_acc = 0.454800\n",
      "Epoch  6, CIFAR-10 Batch 1:  loss = 1.416587, val_acc = 0.468400\n",
      "Epoch  7, CIFAR-10 Batch 1:  loss = 1.310592, val_acc = 0.495400\n",
      "Epoch  8, CIFAR-10 Batch 1:  loss = 1.193030, val_acc = 0.513000\n",
      "Epoch  9, CIFAR-10 Batch 1:  loss = 1.170028, val_acc = 0.513000\n",
      "Epoch 10, CIFAR-10 Batch 1:  loss = 1.041984, val_acc = 0.532800\n",
      "Epoch 11, CIFAR-10 Batch 1:  loss = 0.918126, val_acc = 0.549000\n",
      "Epoch 12, CIFAR-10 Batch 1:  loss = 0.863843, val_acc = 0.564400\n",
      "Epoch 13, CIFAR-10 Batch 1:  loss = 0.782078, val_acc = 0.578800\n",
      "Epoch 14, CIFAR-10 Batch 1:  loss = 0.709451, val_acc = 0.583600\n",
      "Epoch 15, CIFAR-10 Batch 1:  loss = 0.619182, val_acc = 0.595400\n",
      "Epoch 16, CIFAR-10 Batch 1:  loss = 0.540705, val_acc = 0.609600\n",
      "Epoch 17, CIFAR-10 Batch 1:  loss = 0.513176, val_acc = 0.609000\n",
      "Epoch 18, CIFAR-10 Batch 1:  loss = 0.470888, val_acc = 0.619200\n",
      "Epoch 19, CIFAR-10 Batch 1:  loss = 0.399022, val_acc = 0.623000\n",
      "Epoch 20, CIFAR-10 Batch 1:  loss = 0.357321, val_acc = 0.625200\n",
      "Epoch 21, CIFAR-10 Batch 1:  loss = 0.310746, val_acc = 0.630200\n",
      "Epoch 22, CIFAR-10 Batch 1:  loss = 0.315741, val_acc = 0.638400\n",
      "Epoch 23, CIFAR-10 Batch 1:  loss = 0.240666, val_acc = 0.643600\n",
      "Epoch 24, CIFAR-10 Batch 1:  loss = 0.232523, val_acc = 0.651000\n",
      "Epoch 25, CIFAR-10 Batch 1:  loss = 0.192342, val_acc = 0.652800\n",
      "Epoch 26, CIFAR-10 Batch 1:  loss = 0.168339, val_acc = 0.659000\n",
      "Epoch 27, CIFAR-10 Batch 1:  loss = 0.154042, val_acc = 0.662200\n",
      "Epoch 28, CIFAR-10 Batch 1:  loss = 0.157020, val_acc = 0.644000\n",
      "Epoch 29, CIFAR-10 Batch 1:  loss = 0.139209, val_acc = 0.656400\n",
      "Epoch 30, CIFAR-10 Batch 1:  loss = 0.139786, val_acc = 0.661000\n",
      "Epoch 31, CIFAR-10 Batch 1:  loss = 0.117771, val_acc = 0.656800\n",
      "Epoch 32, CIFAR-10 Batch 1:  loss = 0.099882, val_acc = 0.667000\n",
      "Epoch 33, CIFAR-10 Batch 1:  loss = 0.079038, val_acc = 0.664400\n",
      "Epoch 34, CIFAR-10 Batch 1:  loss = 0.067992, val_acc = 0.677800\n",
      "Epoch 35, CIFAR-10 Batch 1:  loss = 0.062792, val_acc = 0.662400\n",
      "Epoch 36, CIFAR-10 Batch 1:  loss = 0.052570, val_acc = 0.674400\n",
      "Epoch 37, CIFAR-10 Batch 1:  loss = 0.050007, val_acc = 0.676600\n",
      "Epoch 38, CIFAR-10 Batch 1:  loss = 0.040038, val_acc = 0.675600\n",
      "Epoch 39, CIFAR-10 Batch 1:  loss = 0.040134, val_acc = 0.670600\n",
      "Epoch 40, CIFAR-10 Batch 1:  loss = 0.032149, val_acc = 0.670200\n",
      "Epoch 41, CIFAR-10 Batch 1:  loss = 0.033562, val_acc = 0.668600\n",
      "Epoch 42, CIFAR-10 Batch 1:  loss = 0.035559, val_acc = 0.645400\n",
      "Epoch 43, CIFAR-10 Batch 1:  loss = 0.039210, val_acc = 0.656000\n",
      "Epoch 44, CIFAR-10 Batch 1:  loss = 0.036318, val_acc = 0.668800\n",
      "Epoch 45, CIFAR-10 Batch 1:  loss = 0.032428, val_acc = 0.682200\n",
      "Epoch 46, CIFAR-10 Batch 1:  loss = 0.017647, val_acc = 0.676800\n",
      "Epoch 47, CIFAR-10 Batch 1:  loss = 0.020049, val_acc = 0.678200\n",
      "Epoch 48, CIFAR-10 Batch 1:  loss = 0.016645, val_acc = 0.685600\n",
      "Epoch 49, CIFAR-10 Batch 1:  loss = 0.025773, val_acc = 0.679400\n",
      "Epoch 50, CIFAR-10 Batch 1:  loss = 0.018472, val_acc = 0.675400\n",
      "Epoch 51, CIFAR-10 Batch 1:  loss = 0.013105, val_acc = 0.674200\n",
      "Epoch 52, CIFAR-10 Batch 1:  loss = 0.015070, val_acc = 0.681200\n",
      "Epoch 53, CIFAR-10 Batch 1:  loss = 0.012851, val_acc = 0.674200\n",
      "Epoch 54, CIFAR-10 Batch 1:  loss = 0.012744, val_acc = 0.678800\n",
      "Epoch 55, CIFAR-10 Batch 1:  loss = 0.010800, val_acc = 0.676400\n",
      "Epoch 56, CIFAR-10 Batch 1:  loss = 0.010744, val_acc = 0.666800\n",
      "Epoch 57, CIFAR-10 Batch 1:  loss = 0.008042, val_acc = 0.679800\n",
      "Epoch 58, CIFAR-10 Batch 1:  loss = 0.009005, val_acc = 0.674200\n",
      "Epoch 59, CIFAR-10 Batch 1:  loss = 0.005919, val_acc = 0.677400\n",
      "Epoch 60, CIFAR-10 Batch 1:  loss = 0.006886, val_acc = 0.665600\n",
      "Epoch 61, CIFAR-10 Batch 1:  loss = 0.006699, val_acc = 0.673400\n",
      "Epoch 62, CIFAR-10 Batch 1:  loss = 0.005599, val_acc = 0.669000\n",
      "Epoch 63, CIFAR-10 Batch 1:  loss = 0.005970, val_acc = 0.662600\n",
      "Epoch 64, CIFAR-10 Batch 1:  loss = 0.004442, val_acc = 0.674600\n",
      "Epoch 65, CIFAR-10 Batch 1:  loss = 0.002820, val_acc = 0.680600\n",
      "Epoch 66, CIFAR-10 Batch 1:  loss = 0.002480, val_acc = 0.677800\n",
      "Epoch 67, CIFAR-10 Batch 1:  loss = 0.002277, val_acc = 0.685800\n",
      "Epoch 68, CIFAR-10 Batch 1:  loss = 0.002360, val_acc = 0.674800\n",
      "Epoch 69, CIFAR-10 Batch 1:  loss = 0.002140, val_acc = 0.687400\n",
      "Epoch 70, CIFAR-10 Batch 1:  loss = 0.002078, val_acc = 0.681200\n",
      "Epoch 71, CIFAR-10 Batch 1:  loss = 0.002538, val_acc = 0.680000\n",
      "Epoch 72, CIFAR-10 Batch 1:  loss = 0.001410, val_acc = 0.683200\n",
      "Epoch 73, CIFAR-10 Batch 1:  loss = 0.002991, val_acc = 0.675000\n",
      "Epoch 74, CIFAR-10 Batch 1:  loss = 0.002103, val_acc = 0.681200\n",
      "Epoch 75, CIFAR-10 Batch 1:  loss = 0.002515, val_acc = 0.677600\n",
      "Epoch 76, CIFAR-10 Batch 1:  loss = 0.001740, val_acc = 0.683200\n",
      "Epoch 77, CIFAR-10 Batch 1:  loss = 0.001704, val_acc = 0.680200\n",
      "Epoch 78, CIFAR-10 Batch 1:  loss = 0.002455, val_acc = 0.677400\n",
      "Epoch 79, CIFAR-10 Batch 1:  loss = 0.001325, val_acc = 0.676000\n",
      "Epoch 80, CIFAR-10 Batch 1:  loss = 0.002212, val_acc = 0.681200\n",
      "Epoch 81, CIFAR-10 Batch 1:  loss = 0.001905, val_acc = 0.681200\n",
      "Epoch 82, CIFAR-10 Batch 1:  loss = 0.000919, val_acc = 0.684200\n",
      "Epoch 83, CIFAR-10 Batch 1:  loss = 0.001333, val_acc = 0.680400\n",
      "Epoch 84, CIFAR-10 Batch 1:  loss = 0.003233, val_acc = 0.679200\n",
      "Epoch 85, CIFAR-10 Batch 1:  loss = 0.000951, val_acc = 0.684000\n",
      "Epoch 86, CIFAR-10 Batch 1:  loss = 0.001100, val_acc = 0.679000\n",
      "Epoch 87, CIFAR-10 Batch 1:  loss = 0.001295, val_acc = 0.679200\n",
      "Epoch 88, CIFAR-10 Batch 1:  loss = 0.000749, val_acc = 0.679400\n",
      "Epoch 89, CIFAR-10 Batch 1:  loss = 0.000772, val_acc = 0.675400\n",
      "Epoch 90, CIFAR-10 Batch 1:  loss = 0.001465, val_acc = 0.675000\n",
      "Epoch 91, CIFAR-10 Batch 1:  loss = 0.001235, val_acc = 0.675600\n",
      "Epoch 92, CIFAR-10 Batch 1:  loss = 0.000864, val_acc = 0.675800\n",
      "Epoch 93, CIFAR-10 Batch 1:  loss = 0.001075, val_acc = 0.671200\n",
      "Epoch 94, CIFAR-10 Batch 1:  loss = 0.000623, val_acc = 0.680600\n",
      "Epoch 95, CIFAR-10 Batch 1:  loss = 0.000703, val_acc = 0.682800\n",
      "Epoch 96, CIFAR-10 Batch 1:  loss = 0.000495, val_acc = 0.681400\n",
      "Epoch 97, CIFAR-10 Batch 1:  loss = 0.000488, val_acc = 0.682600\n",
      "Epoch 98, CIFAR-10 Batch 1:  loss = 0.000884, val_acc = 0.681600\n",
      "Epoch 99, CIFAR-10 Batch 1:  loss = 0.000715, val_acc = 0.677400\n",
      "Epoch 100, CIFAR-10 Batch 1:  loss = 0.000648, val_acc = 0.690600\n"
     ]
    }
   ],
   "source": [
    "\"\"\"\n",
    "DON'T MODIFY ANYTHING IN THIS CELL\n",
    "\"\"\"\n",
    "# save_model_path = './image_classification'\n",
    "\n",
    "print('Checking the Training on a Single Batch...')\n",
    "with tf.Session() as sess:\n",
    "    # Initializing the variables\n",
    "    sess.run(tf.global_variables_initializer())\n",
    "    \n",
    "    # Training cycle\n",
    "    for epoch in range(epochs):\n",
    "        batch_i = 1\n",
    "        for batch_features, batch_labels in helper.load_preprocess_training_batch(batch_i, batch_size):\n",
    "            train_neural_network(sess, optimizer, keep_probability, batch_features, batch_labels)\n",
    "        print('Epoch {:>2}, CIFAR-10 Batch {}:  '.format(epoch + 1, batch_i), end='')\n",
    "        print_stats(sess, batch_features, batch_labels, cost, accuracy)\n",
    "        \n",
    "    # # Save Model\n",
    "    # saver = tf.train.Saver()\n",
    "    # save_path = saver.save(sess, save_model_path)\n"
   ]
  },
  {
   "cell_type": "markdown",
   "metadata": {},
   "source": [
    "### Fully Train the Model\n",
    "Now that you got a good accuracy with a single CIFAR-10 batch, try it with all five batches."
   ]
  },
  {
   "cell_type": "code",
   "execution_count": 102,
   "metadata": {},
   "outputs": [
    {
     "name": "stdout",
     "output_type": "stream",
     "text": [
      "Training...\n",
      "Epoch  1, CIFAR-10 Batch 1:  loss = 2.247773, val_acc = 0.177000\n",
      "Epoch  1, CIFAR-10 Batch 2:  loss = 2.027778, val_acc = 0.287600\n",
      "Epoch  1, CIFAR-10 Batch 3:  loss = 1.857062, val_acc = 0.324600\n",
      "Epoch  1, CIFAR-10 Batch 4:  loss = 1.680440, val_acc = 0.371400\n",
      "Epoch  1, CIFAR-10 Batch 5:  loss = 1.649971, val_acc = 0.430000\n",
      "Epoch  2, CIFAR-10 Batch 1:  loss = 1.770650, val_acc = 0.463800\n",
      "Epoch  2, CIFAR-10 Batch 2:  loss = 1.528917, val_acc = 0.472800\n",
      "Epoch  2, CIFAR-10 Batch 3:  loss = 1.274117, val_acc = 0.477600\n",
      "Epoch  2, CIFAR-10 Batch 4:  loss = 1.411874, val_acc = 0.507400\n",
      "Epoch  2, CIFAR-10 Batch 5:  loss = 1.372313, val_acc = 0.522600\n",
      "Epoch  3, CIFAR-10 Batch 1:  loss = 1.461850, val_acc = 0.548000\n",
      "Epoch  3, CIFAR-10 Batch 2:  loss = 1.224119, val_acc = 0.549200\n",
      "Epoch  3, CIFAR-10 Batch 3:  loss = 0.971008, val_acc = 0.563600\n",
      "Epoch  3, CIFAR-10 Batch 4:  loss = 1.203899, val_acc = 0.576400\n",
      "Epoch  3, CIFAR-10 Batch 5:  loss = 1.184675, val_acc = 0.583200\n",
      "Epoch  4, CIFAR-10 Batch 1:  loss = 1.207073, val_acc = 0.589200\n",
      "Epoch  4, CIFAR-10 Batch 2:  loss = 0.984639, val_acc = 0.602600\n",
      "Epoch  4, CIFAR-10 Batch 3:  loss = 0.815178, val_acc = 0.610400\n",
      "Epoch  4, CIFAR-10 Batch 4:  loss = 1.074466, val_acc = 0.613800\n",
      "Epoch  4, CIFAR-10 Batch 5:  loss = 0.953270, val_acc = 0.615400\n",
      "Epoch  5, CIFAR-10 Batch 1:  loss = 0.972045, val_acc = 0.628200\n",
      "Epoch  5, CIFAR-10 Batch 2:  loss = 0.815507, val_acc = 0.618000\n",
      "Epoch  5, CIFAR-10 Batch 3:  loss = 0.691283, val_acc = 0.630000\n",
      "Epoch  5, CIFAR-10 Batch 4:  loss = 0.918892, val_acc = 0.642200\n",
      "Epoch  5, CIFAR-10 Batch 5:  loss = 0.806180, val_acc = 0.633800\n",
      "Epoch  6, CIFAR-10 Batch 1:  loss = 0.816598, val_acc = 0.667000\n",
      "Epoch  6, CIFAR-10 Batch 2:  loss = 0.683875, val_acc = 0.661000\n",
      "Epoch  6, CIFAR-10 Batch 3:  loss = 0.615271, val_acc = 0.660600\n",
      "Epoch  6, CIFAR-10 Batch 4:  loss = 0.854286, val_acc = 0.661200\n",
      "Epoch  6, CIFAR-10 Batch 5:  loss = 0.624699, val_acc = 0.672000\n",
      "Epoch  7, CIFAR-10 Batch 1:  loss = 0.714108, val_acc = 0.688000\n",
      "Epoch  7, CIFAR-10 Batch 2:  loss = 0.602807, val_acc = 0.666200\n",
      "Epoch  7, CIFAR-10 Batch 3:  loss = 0.493311, val_acc = 0.675800\n",
      "Epoch  7, CIFAR-10 Batch 4:  loss = 0.724370, val_acc = 0.691200\n",
      "Epoch  7, CIFAR-10 Batch 5:  loss = 0.515044, val_acc = 0.692200\n",
      "Epoch  8, CIFAR-10 Batch 1:  loss = 0.646937, val_acc = 0.696600\n",
      "Epoch  8, CIFAR-10 Batch 2:  loss = 0.539344, val_acc = 0.701200\n",
      "Epoch  8, CIFAR-10 Batch 3:  loss = 0.424830, val_acc = 0.703000\n",
      "Epoch  8, CIFAR-10 Batch 4:  loss = 0.642813, val_acc = 0.706400\n",
      "Epoch  8, CIFAR-10 Batch 5:  loss = 0.456966, val_acc = 0.701200\n",
      "Epoch  9, CIFAR-10 Batch 1:  loss = 0.578335, val_acc = 0.704200\n",
      "Epoch  9, CIFAR-10 Batch 2:  loss = 0.483673, val_acc = 0.705400\n",
      "Epoch  9, CIFAR-10 Batch 3:  loss = 0.395320, val_acc = 0.704800\n",
      "Epoch  9, CIFAR-10 Batch 4:  loss = 0.489812, val_acc = 0.725200\n",
      "Epoch  9, CIFAR-10 Batch 5:  loss = 0.371920, val_acc = 0.715200\n",
      "Epoch 10, CIFAR-10 Batch 1:  loss = 0.481147, val_acc = 0.726400\n",
      "Epoch 10, CIFAR-10 Batch 2:  loss = 0.395707, val_acc = 0.717000\n",
      "Epoch 10, CIFAR-10 Batch 3:  loss = 0.339452, val_acc = 0.697400\n",
      "Epoch 10, CIFAR-10 Batch 4:  loss = 0.403381, val_acc = 0.725400\n",
      "Epoch 10, CIFAR-10 Batch 5:  loss = 0.301061, val_acc = 0.728600\n",
      "Epoch 11, CIFAR-10 Batch 1:  loss = 0.412417, val_acc = 0.728800\n",
      "Epoch 11, CIFAR-10 Batch 2:  loss = 0.370386, val_acc = 0.732600\n",
      "Epoch 11, CIFAR-10 Batch 3:  loss = 0.289234, val_acc = 0.728000\n",
      "Epoch 11, CIFAR-10 Batch 4:  loss = 0.393890, val_acc = 0.734200\n",
      "Epoch 11, CIFAR-10 Batch 5:  loss = 0.260316, val_acc = 0.731200\n",
      "Epoch 12, CIFAR-10 Batch 1:  loss = 0.383573, val_acc = 0.729400\n",
      "Epoch 12, CIFAR-10 Batch 2:  loss = 0.329272, val_acc = 0.724400\n",
      "Epoch 12, CIFAR-10 Batch 3:  loss = 0.248470, val_acc = 0.742600\n",
      "Epoch 12, CIFAR-10 Batch 4:  loss = 0.339519, val_acc = 0.735400\n",
      "Epoch 12, CIFAR-10 Batch 5:  loss = 0.239695, val_acc = 0.747200\n",
      "Epoch 13, CIFAR-10 Batch 1:  loss = 0.286571, val_acc = 0.737200\n",
      "Epoch 13, CIFAR-10 Batch 2:  loss = 0.259212, val_acc = 0.747000\n",
      "Epoch 13, CIFAR-10 Batch 3:  loss = 0.214652, val_acc = 0.735200\n",
      "Epoch 13, CIFAR-10 Batch 4:  loss = 0.258233, val_acc = 0.747400\n",
      "Epoch 13, CIFAR-10 Batch 5:  loss = 0.226753, val_acc = 0.731000\n",
      "Epoch 14, CIFAR-10 Batch 1:  loss = 0.253284, val_acc = 0.750000\n",
      "Epoch 14, CIFAR-10 Batch 2:  loss = 0.218017, val_acc = 0.753400\n",
      "Epoch 14, CIFAR-10 Batch 3:  loss = 0.178016, val_acc = 0.740200\n",
      "Epoch 14, CIFAR-10 Batch 4:  loss = 0.211109, val_acc = 0.751200\n",
      "Epoch 14, CIFAR-10 Batch 5:  loss = 0.153695, val_acc = 0.753800\n",
      "Epoch 15, CIFAR-10 Batch 1:  loss = 0.233577, val_acc = 0.755200\n",
      "Epoch 15, CIFAR-10 Batch 2:  loss = 0.190469, val_acc = 0.757000\n",
      "Epoch 15, CIFAR-10 Batch 3:  loss = 0.162423, val_acc = 0.743400\n",
      "Epoch 15, CIFAR-10 Batch 4:  loss = 0.209782, val_acc = 0.754000\n",
      "Epoch 15, CIFAR-10 Batch 5:  loss = 0.135093, val_acc = 0.761600\n",
      "Epoch 16, CIFAR-10 Batch 1:  loss = 0.209738, val_acc = 0.762800\n",
      "Epoch 16, CIFAR-10 Batch 2:  loss = 0.171642, val_acc = 0.763800\n",
      "Epoch 16, CIFAR-10 Batch 3:  loss = 0.125841, val_acc = 0.748600\n",
      "Epoch 16, CIFAR-10 Batch 4:  loss = 0.157812, val_acc = 0.760600\n",
      "Epoch 16, CIFAR-10 Batch 5:  loss = 0.127272, val_acc = 0.760800\n",
      "Epoch 17, CIFAR-10 Batch 1:  loss = 0.195423, val_acc = 0.756400\n",
      "Epoch 17, CIFAR-10 Batch 2:  loss = 0.148397, val_acc = 0.760000\n",
      "Epoch 17, CIFAR-10 Batch 3:  loss = 0.113171, val_acc = 0.755800\n",
      "Epoch 17, CIFAR-10 Batch 4:  loss = 0.142085, val_acc = 0.766200\n",
      "Epoch 17, CIFAR-10 Batch 5:  loss = 0.115075, val_acc = 0.766600\n",
      "Epoch 18, CIFAR-10 Batch 1:  loss = 0.155377, val_acc = 0.767400\n",
      "Epoch 18, CIFAR-10 Batch 2:  loss = 0.162206, val_acc = 0.767000\n",
      "Epoch 18, CIFAR-10 Batch 3:  loss = 0.108255, val_acc = 0.761600\n",
      "Epoch 18, CIFAR-10 Batch 4:  loss = 0.130032, val_acc = 0.766600\n",
      "Epoch 18, CIFAR-10 Batch 5:  loss = 0.096082, val_acc = 0.771400\n",
      "Epoch 19, CIFAR-10 Batch 1:  loss = 0.123542, val_acc = 0.772800\n",
      "Epoch 19, CIFAR-10 Batch 2:  loss = 0.145371, val_acc = 0.766600\n",
      "Epoch 19, CIFAR-10 Batch 3:  loss = 0.107714, val_acc = 0.758600\n",
      "Epoch 19, CIFAR-10 Batch 4:  loss = 0.121660, val_acc = 0.763800\n",
      "Epoch 19, CIFAR-10 Batch 5:  loss = 0.085820, val_acc = 0.771400\n",
      "Epoch 20, CIFAR-10 Batch 1:  loss = 0.108877, val_acc = 0.774800\n",
      "Epoch 20, CIFAR-10 Batch 2:  loss = 0.116364, val_acc = 0.772400\n",
      "Epoch 20, CIFAR-10 Batch 3:  loss = 0.083777, val_acc = 0.760000\n",
      "Epoch 20, CIFAR-10 Batch 4:  loss = 0.108700, val_acc = 0.769400\n",
      "Epoch 20, CIFAR-10 Batch 5:  loss = 0.068510, val_acc = 0.775200\n",
      "Epoch 21, CIFAR-10 Batch 1:  loss = 0.099716, val_acc = 0.773400\n",
      "Epoch 21, CIFAR-10 Batch 2:  loss = 0.101155, val_acc = 0.769200\n",
      "Epoch 21, CIFAR-10 Batch 3:  loss = 0.077436, val_acc = 0.764000\n",
      "Epoch 21, CIFAR-10 Batch 4:  loss = 0.091512, val_acc = 0.775000\n",
      "Epoch 21, CIFAR-10 Batch 5:  loss = 0.059893, val_acc = 0.770200\n",
      "Epoch 22, CIFAR-10 Batch 1:  loss = 0.105083, val_acc = 0.774200\n",
      "Epoch 22, CIFAR-10 Batch 2:  loss = 0.097079, val_acc = 0.776200\n",
      "Epoch 22, CIFAR-10 Batch 3:  loss = 0.069779, val_acc = 0.767000\n",
      "Epoch 22, CIFAR-10 Batch 4:  loss = 0.101415, val_acc = 0.781400\n",
      "Epoch 22, CIFAR-10 Batch 5:  loss = 0.055441, val_acc = 0.786400\n",
      "Epoch 23, CIFAR-10 Batch 1:  loss = 0.072961, val_acc = 0.777400\n",
      "Epoch 23, CIFAR-10 Batch 2:  loss = 0.070421, val_acc = 0.780800\n",
      "Epoch 23, CIFAR-10 Batch 3:  loss = 0.071115, val_acc = 0.773200\n",
      "Epoch 23, CIFAR-10 Batch 4:  loss = 0.075023, val_acc = 0.779600\n",
      "Epoch 23, CIFAR-10 Batch 5:  loss = 0.045648, val_acc = 0.783600\n",
      "Epoch 24, CIFAR-10 Batch 1:  loss = 0.070510, val_acc = 0.782200\n",
      "Epoch 24, CIFAR-10 Batch 2:  loss = 0.078604, val_acc = 0.778800\n",
      "Epoch 24, CIFAR-10 Batch 3:  loss = 0.072588, val_acc = 0.766400\n",
      "Epoch 24, CIFAR-10 Batch 4:  loss = 0.076504, val_acc = 0.777200\n",
      "Epoch 24, CIFAR-10 Batch 5:  loss = 0.041103, val_acc = 0.778600\n",
      "Epoch 25, CIFAR-10 Batch 1:  loss = 0.071885, val_acc = 0.778200\n",
      "Epoch 25, CIFAR-10 Batch 2:  loss = 0.061437, val_acc = 0.784600\n",
      "Epoch 25, CIFAR-10 Batch 3:  loss = 0.054173, val_acc = 0.771600\n",
      "Epoch 25, CIFAR-10 Batch 4:  loss = 0.056135, val_acc = 0.791400\n",
      "Epoch 25, CIFAR-10 Batch 5:  loss = 0.029843, val_acc = 0.780800\n",
      "Epoch 26, CIFAR-10 Batch 1:  loss = 0.059367, val_acc = 0.786200\n"
     ]
    },
    {
     "name": "stdout",
     "output_type": "stream",
     "text": [
      "Epoch 26, CIFAR-10 Batch 2:  loss = 0.060611, val_acc = 0.781200\n",
      "Epoch 26, CIFAR-10 Batch 3:  loss = 0.040368, val_acc = 0.779400\n",
      "Epoch 26, CIFAR-10 Batch 4:  loss = 0.057876, val_acc = 0.788600\n",
      "Epoch 26, CIFAR-10 Batch 5:  loss = 0.027219, val_acc = 0.785200\n",
      "Epoch 27, CIFAR-10 Batch 1:  loss = 0.046426, val_acc = 0.786400\n",
      "Epoch 27, CIFAR-10 Batch 2:  loss = 0.051536, val_acc = 0.787000\n",
      "Epoch 27, CIFAR-10 Batch 3:  loss = 0.039459, val_acc = 0.777600\n",
      "Epoch 27, CIFAR-10 Batch 4:  loss = 0.056310, val_acc = 0.795600\n",
      "Epoch 27, CIFAR-10 Batch 5:  loss = 0.029520, val_acc = 0.778000\n",
      "Epoch 28, CIFAR-10 Batch 1:  loss = 0.049852, val_acc = 0.782800\n",
      "Epoch 28, CIFAR-10 Batch 2:  loss = 0.049290, val_acc = 0.782400\n",
      "Epoch 28, CIFAR-10 Batch 3:  loss = 0.034625, val_acc = 0.781000\n",
      "Epoch 28, CIFAR-10 Batch 4:  loss = 0.053023, val_acc = 0.788200\n",
      "Epoch 28, CIFAR-10 Batch 5:  loss = 0.032611, val_acc = 0.762800\n",
      "Epoch 29, CIFAR-10 Batch 1:  loss = 0.041294, val_acc = 0.790200\n",
      "Epoch 29, CIFAR-10 Batch 2:  loss = 0.043467, val_acc = 0.788000\n",
      "Epoch 29, CIFAR-10 Batch 3:  loss = 0.032086, val_acc = 0.787600\n",
      "Epoch 29, CIFAR-10 Batch 4:  loss = 0.041471, val_acc = 0.789800\n",
      "Epoch 29, CIFAR-10 Batch 5:  loss = 0.026653, val_acc = 0.776200\n",
      "Epoch 30, CIFAR-10 Batch 1:  loss = 0.040396, val_acc = 0.782000\n",
      "Epoch 30, CIFAR-10 Batch 2:  loss = 0.041680, val_acc = 0.786400\n",
      "Epoch 30, CIFAR-10 Batch 3:  loss = 0.029125, val_acc = 0.783800\n",
      "Epoch 30, CIFAR-10 Batch 4:  loss = 0.045099, val_acc = 0.786800\n",
      "Epoch 30, CIFAR-10 Batch 5:  loss = 0.019878, val_acc = 0.784000\n",
      "Epoch 31, CIFAR-10 Batch 1:  loss = 0.026935, val_acc = 0.787800\n",
      "Epoch 31, CIFAR-10 Batch 2:  loss = 0.037269, val_acc = 0.788000\n",
      "Epoch 31, CIFAR-10 Batch 3:  loss = 0.025270, val_acc = 0.778200\n",
      "Epoch 31, CIFAR-10 Batch 4:  loss = 0.037408, val_acc = 0.787000\n",
      "Epoch 31, CIFAR-10 Batch 5:  loss = 0.024185, val_acc = 0.777800\n",
      "Epoch 32, CIFAR-10 Batch 1:  loss = 0.035504, val_acc = 0.788800\n",
      "Epoch 32, CIFAR-10 Batch 2:  loss = 0.026561, val_acc = 0.793600\n",
      "Epoch 32, CIFAR-10 Batch 3:  loss = 0.018461, val_acc = 0.790600\n",
      "Epoch 32, CIFAR-10 Batch 4:  loss = 0.040664, val_acc = 0.781600\n",
      "Epoch 32, CIFAR-10 Batch 5:  loss = 0.016318, val_acc = 0.778200\n",
      "Epoch 33, CIFAR-10 Batch 1:  loss = 0.017998, val_acc = 0.791800\n",
      "Epoch 33, CIFAR-10 Batch 2:  loss = 0.025369, val_acc = 0.795600\n",
      "Epoch 33, CIFAR-10 Batch 3:  loss = 0.018595, val_acc = 0.789400\n",
      "Epoch 33, CIFAR-10 Batch 4:  loss = 0.026434, val_acc = 0.791200\n",
      "Epoch 33, CIFAR-10 Batch 5:  loss = 0.017763, val_acc = 0.773400\n",
      "Epoch 34, CIFAR-10 Batch 1:  loss = 0.023923, val_acc = 0.785800\n",
      "Epoch 34, CIFAR-10 Batch 2:  loss = 0.016484, val_acc = 0.787600\n",
      "Epoch 34, CIFAR-10 Batch 3:  loss = 0.018696, val_acc = 0.793000\n",
      "Epoch 34, CIFAR-10 Batch 4:  loss = 0.019491, val_acc = 0.793800\n",
      "Epoch 34, CIFAR-10 Batch 5:  loss = 0.017195, val_acc = 0.771000\n",
      "Epoch 35, CIFAR-10 Batch 1:  loss = 0.020937, val_acc = 0.789600\n",
      "Epoch 35, CIFAR-10 Batch 2:  loss = 0.018371, val_acc = 0.792000\n",
      "Epoch 35, CIFAR-10 Batch 3:  loss = 0.021249, val_acc = 0.782600\n",
      "Epoch 35, CIFAR-10 Batch 4:  loss = 0.027975, val_acc = 0.786400\n",
      "Epoch 35, CIFAR-10 Batch 5:  loss = 0.012236, val_acc = 0.791000\n",
      "Epoch 36, CIFAR-10 Batch 1:  loss = 0.025156, val_acc = 0.780800\n",
      "Epoch 36, CIFAR-10 Batch 2:  loss = 0.026530, val_acc = 0.794200\n",
      "Epoch 36, CIFAR-10 Batch 3:  loss = 0.012967, val_acc = 0.798600\n",
      "Epoch 36, CIFAR-10 Batch 4:  loss = 0.020186, val_acc = 0.788600\n",
      "Epoch 36, CIFAR-10 Batch 5:  loss = 0.008735, val_acc = 0.796200\n",
      "Epoch 37, CIFAR-10 Batch 1:  loss = 0.019106, val_acc = 0.798800\n",
      "Epoch 37, CIFAR-10 Batch 2:  loss = 0.015020, val_acc = 0.789800\n",
      "Epoch 37, CIFAR-10 Batch 3:  loss = 0.013372, val_acc = 0.797400\n",
      "Epoch 37, CIFAR-10 Batch 4:  loss = 0.018049, val_acc = 0.789800\n",
      "Epoch 37, CIFAR-10 Batch 5:  loss = 0.009048, val_acc = 0.796400\n",
      "Epoch 38, CIFAR-10 Batch 1:  loss = 0.020298, val_acc = 0.785000\n",
      "Epoch 38, CIFAR-10 Batch 2:  loss = 0.013284, val_acc = 0.784800\n",
      "Epoch 38, CIFAR-10 Batch 3:  loss = 0.010898, val_acc = 0.795200\n",
      "Epoch 38, CIFAR-10 Batch 4:  loss = 0.021117, val_acc = 0.787000\n",
      "Epoch 38, CIFAR-10 Batch 5:  loss = 0.009759, val_acc = 0.783000\n",
      "Epoch 39, CIFAR-10 Batch 1:  loss = 0.024228, val_acc = 0.773600\n",
      "Epoch 39, CIFAR-10 Batch 2:  loss = 0.020792, val_acc = 0.779600\n",
      "Epoch 39, CIFAR-10 Batch 3:  loss = 0.009296, val_acc = 0.785400\n",
      "Epoch 39, CIFAR-10 Batch 4:  loss = 0.018093, val_acc = 0.790600\n",
      "Epoch 39, CIFAR-10 Batch 5:  loss = 0.010578, val_acc = 0.787600\n",
      "Epoch 40, CIFAR-10 Batch 1:  loss = 0.021178, val_acc = 0.788200\n",
      "Epoch 40, CIFAR-10 Batch 2:  loss = 0.012105, val_acc = 0.788200\n",
      "Epoch 40, CIFAR-10 Batch 3:  loss = 0.009235, val_acc = 0.792200\n",
      "Epoch 40, CIFAR-10 Batch 4:  loss = 0.010942, val_acc = 0.790800\n",
      "Epoch 40, CIFAR-10 Batch 5:  loss = 0.010480, val_acc = 0.790400\n",
      "Epoch 41, CIFAR-10 Batch 1:  loss = 0.009584, val_acc = 0.800600\n",
      "Epoch 41, CIFAR-10 Batch 2:  loss = 0.014126, val_acc = 0.781600\n",
      "Epoch 41, CIFAR-10 Batch 3:  loss = 0.013158, val_acc = 0.792400\n",
      "Epoch 41, CIFAR-10 Batch 4:  loss = 0.013883, val_acc = 0.790600\n",
      "Epoch 41, CIFAR-10 Batch 5:  loss = 0.011472, val_acc = 0.787400\n",
      "Epoch 42, CIFAR-10 Batch 1:  loss = 0.012883, val_acc = 0.795200\n",
      "Epoch 42, CIFAR-10 Batch 2:  loss = 0.012625, val_acc = 0.783800\n",
      "Epoch 42, CIFAR-10 Batch 3:  loss = 0.011223, val_acc = 0.796600\n",
      "Epoch 42, CIFAR-10 Batch 4:  loss = 0.012238, val_acc = 0.781000\n",
      "Epoch 42, CIFAR-10 Batch 5:  loss = 0.009195, val_acc = 0.784200\n",
      "Epoch 43, CIFAR-10 Batch 1:  loss = 0.011364, val_acc = 0.793600\n",
      "Epoch 43, CIFAR-10 Batch 2:  loss = 0.007565, val_acc = 0.791000\n",
      "Epoch 43, CIFAR-10 Batch 3:  loss = 0.009481, val_acc = 0.790200\n",
      "Epoch 43, CIFAR-10 Batch 4:  loss = 0.011216, val_acc = 0.787400\n",
      "Epoch 43, CIFAR-10 Batch 5:  loss = 0.009737, val_acc = 0.791800\n",
      "Epoch 44, CIFAR-10 Batch 1:  loss = 0.011933, val_acc = 0.795800\n",
      "Epoch 44, CIFAR-10 Batch 2:  loss = 0.007815, val_acc = 0.790400\n",
      "Epoch 44, CIFAR-10 Batch 3:  loss = 0.007328, val_acc = 0.793200\n",
      "Epoch 44, CIFAR-10 Batch 4:  loss = 0.007570, val_acc = 0.787000\n",
      "Epoch 44, CIFAR-10 Batch 5:  loss = 0.006850, val_acc = 0.798200\n",
      "Epoch 45, CIFAR-10 Batch 1:  loss = 0.013638, val_acc = 0.786600\n",
      "Epoch 45, CIFAR-10 Batch 2:  loss = 0.013235, val_acc = 0.779600\n",
      "Epoch 45, CIFAR-10 Batch 3:  loss = 0.011496, val_acc = 0.798000\n",
      "Epoch 45, CIFAR-10 Batch 4:  loss = 0.008242, val_acc = 0.787000\n",
      "Epoch 45, CIFAR-10 Batch 5:  loss = 0.008940, val_acc = 0.798800\n",
      "Epoch 46, CIFAR-10 Batch 1:  loss = 0.010643, val_acc = 0.784800\n",
      "Epoch 46, CIFAR-10 Batch 2:  loss = 0.009826, val_acc = 0.798800\n",
      "Epoch 46, CIFAR-10 Batch 3:  loss = 0.007178, val_acc = 0.792800\n",
      "Epoch 46, CIFAR-10 Batch 4:  loss = 0.007241, val_acc = 0.790200\n",
      "Epoch 46, CIFAR-10 Batch 5:  loss = 0.011181, val_acc = 0.795400\n",
      "Epoch 47, CIFAR-10 Batch 1:  loss = 0.010564, val_acc = 0.790600\n",
      "Epoch 47, CIFAR-10 Batch 2:  loss = 0.008577, val_acc = 0.787800\n",
      "Epoch 47, CIFAR-10 Batch 3:  loss = 0.008230, val_acc = 0.798800\n",
      "Epoch 47, CIFAR-10 Batch 4:  loss = 0.009889, val_acc = 0.789200\n",
      "Epoch 47, CIFAR-10 Batch 5:  loss = 0.005410, val_acc = 0.795400\n",
      "Epoch 48, CIFAR-10 Batch 1:  loss = 0.006950, val_acc = 0.801800\n",
      "Epoch 48, CIFAR-10 Batch 2:  loss = 0.010947, val_acc = 0.784400\n",
      "Epoch 48, CIFAR-10 Batch 3:  loss = 0.007524, val_acc = 0.793600\n",
      "Epoch 48, CIFAR-10 Batch 4:  loss = 0.010015, val_acc = 0.787800\n",
      "Epoch 48, CIFAR-10 Batch 5:  loss = 0.005116, val_acc = 0.806600\n",
      "Epoch 49, CIFAR-10 Batch 1:  loss = 0.008358, val_acc = 0.792800\n",
      "Epoch 49, CIFAR-10 Batch 2:  loss = 0.004123, val_acc = 0.795400\n",
      "Epoch 49, CIFAR-10 Batch 3:  loss = 0.009044, val_acc = 0.791200\n",
      "Epoch 49, CIFAR-10 Batch 4:  loss = 0.005618, val_acc = 0.786200\n",
      "Epoch 49, CIFAR-10 Batch 5:  loss = 0.004266, val_acc = 0.801800\n",
      "Epoch 50, CIFAR-10 Batch 1:  loss = 0.007117, val_acc = 0.796200\n",
      "Epoch 50, CIFAR-10 Batch 2:  loss = 0.005208, val_acc = 0.791000\n",
      "Epoch 50, CIFAR-10 Batch 3:  loss = 0.004414, val_acc = 0.797200\n",
      "Epoch 50, CIFAR-10 Batch 4:  loss = 0.005635, val_acc = 0.787800\n",
      "Epoch 50, CIFAR-10 Batch 5:  loss = 0.004188, val_acc = 0.796200\n"
     ]
    }
   ],
   "source": [
    "\"\"\"\n",
    "DON'T MODIFY ANYTHING IN THIS CELL\n",
    "\"\"\"\n",
    "save_model_path = './image_classification'\n",
    "\n",
    "print('Training...')\n",
    "with tf.Session() as sess:\n",
    "    # Initializing the variables\n",
    "    sess.run(tf.global_variables_initializer())\n",
    "    \n",
    "    # Training cycle\n",
    "    for epoch in range(epochs):\n",
    "        # Loop over all batches\n",
    "        n_batches = 5\n",
    "        for batch_i in range(1, n_batches + 1):\n",
    "            for batch_features, batch_labels in helper.load_preprocess_training_batch(batch_i, batch_size):\n",
    "                train_neural_network(sess, optimizer, keep_probability, batch_features, batch_labels)\n",
    "            print('Epoch {:>2}, CIFAR-10 Batch {}:  '.format(epoch + 1, batch_i), end='')\n",
    "            print_stats(sess, batch_features, batch_labels, cost, accuracy)\n",
    "            \n",
    "    # Save Model\n",
    "    saver = tf.train.Saver()\n",
    "    save_path = saver.save(sess, save_model_path)"
   ]
  },
  {
   "cell_type": "markdown",
   "metadata": {},
   "source": [
    "# Checkpoint\n",
    "The model has been saved to disk.\n",
    "## Test Model\n",
    "Test your model against the test dataset.  This will be your final accuracy. You should have an accuracy greater than 50%. If you don't, keep tweaking the model architecture and parameters."
   ]
  },
  {
   "cell_type": "code",
   "execution_count": 103,
   "metadata": {},
   "outputs": [
    {
     "name": "stdout",
     "output_type": "stream",
     "text": [
      "INFO:tensorflow:Restoring parameters from ./image_classification\n",
      "Testing Accuracy: 0.78974609375\n",
      "\n"
     ]
    },
    {
     "data": {
      "image/png": "[encoded data removed]",
      "text/plain": [
       "<matplotlib.figure.Figure at 0x7fc40e6223c8>"
      ]
     },
     "metadata": {
      "image/png": {
       "height": 319,
       "width": 355
      }
     },
     "output_type": "display_data"
    }
   ],
   "source": [
    "\"\"\"\n",
    "DON'T MODIFY ANYTHING IN THIS CELL\n",
    "\"\"\"\n",
    "%matplotlib inline\n",
    "%config InlineBackend.figure_format = 'retina'\n",
    "\n",
    "import tensorflow as tf\n",
    "import pickle\n",
    "import helper\n",
    "import random\n",
    "\n",
    "# Set batch size if not already set\n",
    "try:\n",
    "    if batch_size:\n",
    "        pass\n",
    "except NameError:\n",
    "    batch_size = 64\n",
    "\n",
    "save_model_path = './image_classification'\n",
    "n_samples = 4\n",
    "top_n_predictions = 3\n",
    "\n",
    "def test_model():\n",
    "    \"\"\"\n",
    "    Test the saved model against the test dataset\n",
    "    \"\"\"\n",
    "\n",
    "    test_features, test_labels = pickle.load(open('preprocess_test.p', mode='rb'))\n",
    "    loaded_graph = tf.Graph()\n",
    "\n",
    "    with tf.Session(graph=loaded_graph) as sess:\n",
    "        # Load model\n",
    "        loader = tf.train.import_meta_graph(save_model_path + '.meta')\n",
    "        loader.restore(sess, save_model_path)\n",
    "\n",
    "        # Get Tensors from loaded model\n",
    "        loaded_x = loaded_graph.get_tensor_by_name('x:0')\n",
    "        loaded_y = loaded_graph.get_tensor_by_name('y:0')\n",
    "        loaded_keep_prob = loaded_graph.get_tensor_by_name('keep_prob:0')\n",
    "        loaded_logits = loaded_graph.get_tensor_by_name('logits:0')\n",
    "        loaded_acc = loaded_graph.get_tensor_by_name('accuracy:0')\n",
    "        \n",
    "        # Get accuracy in batches for memory limitations\n",
    "        test_batch_acc_total = 0\n",
    "        test_batch_count = 0\n",
    "        \n",
    "        for test_feature_batch, test_label_batch in helper.batch_features_labels(test_features, test_labels, batch_size):\n",
    "            test_batch_acc_total += sess.run(\n",
    "                loaded_acc,\n",
    "                feed_dict={loaded_x: test_feature_batch, loaded_y: test_label_batch, loaded_keep_prob: 1.0})\n",
    "            test_batch_count += 1\n",
    "\n",
    "        print('Testing Accuracy: {}\\n'.format(test_batch_acc_total/test_batch_count))\n",
    "\n",
    "        # Print Random Samples\n",
    "        random_test_features, random_test_labels = tuple(zip(*random.sample(list(zip(test_features, test_labels)), n_samples)))\n",
    "        random_test_predictions = sess.run(\n",
    "            tf.nn.top_k(tf.nn.softmax(loaded_logits), top_n_predictions),\n",
    "            feed_dict={loaded_x: random_test_features, loaded_y: random_test_labels, loaded_keep_prob: 1.0})\n",
    "        helper.display_image_predictions(random_test_features, random_test_labels, random_test_predictions)\n",
    "\n",
    "\n",
    "test_model()"
   ]
  },
  {
   "cell_type": "markdown",
   "metadata": {},
   "source": [
    "## Why 50-80% Accuracy?\n",
    "You might be wondering why you can't get an accuracy any higher. First things first, 50% isn't bad for a simple CNN.  Pure guessing would get you 10% accuracy. However, you might notice people are getting scores [well above 80%](http://rodrigob.github.io/are_we_there_yet/build/classification_datasets_results.html#43494641522d3130).  That's because we haven't taught you all there is to know about neural networks. We still need to cover a few more techniques.\n",
    "## Submitting This Project\n",
    "When submitting this project, make sure to run all the cells before saving the notebook.  Save the notebook file as \"dlnd_image_classification.ipynb\" and save it as a HTML file under \"File\" -> \"Download as\".  Include the \"helper.py\" and \"problem_unittests.py\" files in your submission."
   ]
  }
 ],
 "metadata": {
  "kernelspec": {
   "display_name": "Python 3",
   "language": "python",
   "name": "python3"
  },
  "language_info": {
   "codemirror_mode": {
    "name": "ipython",
    "version": 3
   },
   "file_extension": ".py",
   "mimetype": "text/x-python",
   "name": "python",
   "nbconvert_exporter": "python",
   "pygments_lexer": "ipython3",
   "version": "3.5.3"
  }
 },
 "nbformat": 4,
 "nbformat_minor": 1
}
